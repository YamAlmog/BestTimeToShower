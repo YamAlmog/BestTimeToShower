{
 "cells": [
  {
   "cell_type": "code",
   "execution_count": null,
   "metadata": {},
   "outputs": [],
   "source": [
    "import requests\n",
    "import json\n",
    "import pandas as pd\n",
    "import matplotlib.pyplot as plt\n",
    "import warnings\n",
    "warnings.filterwarnings('ignore')\n",
    "from datetime import datetime, timedelta\n",
    "import time \n",
    "\n",
    "URL = \"https://www.oref.org.il//Shared/Ajax/GetAlarmsHistory.aspx\"\n",
    "FROM_DATE = '7.10.23'\n",
    "TO_DATE = '11.11.23'\n",
    "DAYS_INTERVAL = 2\n",
    "CSV_FILE_PATH = \"C:/Projects/Python/Projects/BestTimeToShower/data/data.csv\"\n",
    "SLEEP_TIME = 5"
   ]
  },
  {
   "cell_type": "code",
   "execution_count": null,
   "metadata": {},
   "outputs": [],
   "source": [
    "def get_user_settlement():\n",
    "    user_settlment = input(\"Please input the settlement where you would like to map the distribution of alarms\\n\"\n",
    "                           \"here ---> \")\n",
    "    return user_settlment\n",
    "\n",
    "def get_request(current_date, dest_date, alerts_list):\n",
    "    try:    \n",
    "        params = {'lang':'en',\n",
    "                    'fromDate': current_date,\n",
    "                    'toDate': dest_date,\n",
    "                    'mode': '0'}\n",
    "        response = requests.get(URL, params=params)\n",
    "        if response.status_code == 200:\n",
    "            time.sleep(SLEEP_TIME)\n",
    "            current_alerts_list = json.loads(response.text)\n",
    "            missiles_alerts_list = [item for item in current_alerts_list if item['category_desc']=='Missiles']\n",
    "            alerts_list += missiles_alerts_list\n",
    "        else:\n",
    "            response.raise_for_status()\n",
    "        \n",
    "    except requests.HTTPError as e:\n",
    "        print(f\"HTTP error occurred: {e}\")    \n",
    "\n",
    "def get_oref_alarms(from_date, to_date):\n",
    "    all_time_alarams_list = []\n",
    "    current_date = datetime.strptime(from_date, '%d.%m.%y')\n",
    "    target_date = datetime.strptime(to_date, '%d.%m.%y')\n",
    "    print(current_date)\n",
    "    while current_date <= target_date:\n",
    "        dest_date = current_date + timedelta(days=DAYS_INTERVAL)  \n",
    "        get_request(current_date, dest_date, all_time_alarams_list)\n",
    "        print(f\"Get the alarms from date: {current_date} to date: {dest_date}\")\n",
    "        current_date += timedelta(days=DAYS_INTERVAL)\n",
    "    \n",
    "    difference = current_date - target_date\n",
    "    days_diff = difference.days\n",
    "    day_to_add = DAYS_INTERVAL-days_diff\n",
    "    current_date -= timedelta(days=DAYS_INTERVAL) # return current_date to the correct date cause we add DAYS_INTERVAL at the end of while loop\n",
    "    get_request(current_date, current_date + timedelta(days=day_to_add), all_time_alarams_list)\n",
    "    \n",
    "    df = pd.DataFrame(all_time_alarams_list)\n",
    "    df.to_csv(CSV_FILE_PATH)\n",
    "    \n",
    "     \n",
    "get_oref_alarms(FROM_DATE, TO_DATE)"
   ]
  },
  {
   "cell_type": "code",
   "execution_count": null,
   "metadata": {},
   "outputs": [],
   "source": [
    "def display_dist(df, settlment):\n",
    "    # Access the 'time' column of the DataFrame\n",
    "    df['time'] = pd.to_datetime(df['time'])\n",
    "\n",
    "    # Plot histogram\n",
    "    plt.hist(df['time'].dt.hour + df['time'].dt.minute / 60, bins=4 * 24, range=(0, 24), color='skyblue', edgecolor='black')\n",
    "\n",
    "    plt.xlabel('Time')\n",
    "    plt.ylabel('Alarms')\n",
    "    plt.title(f\"Distribution of alarms in {settlment}\")\n",
    "    # Set X-axis ticks and labels\n",
    "    plt.xticks(range(24), labels=[str(i) for i in range(24)])\n",
    "    plt.show()"
   ]
  },
  {
   "cell_type": "code",
   "execution_count": null,
   "metadata": {},
   "outputs": [],
   "source": [
    "def return_data_list(dataframe):\n",
    "    items_lst = dataframe['data'].tolist()\n",
    "    return items_lst\n"
   ]
  },
  {
   "cell_type": "code",
   "execution_count": null,
   "metadata": {},
   "outputs": [],
   "source": [
    "def create_user_settl_lst(given_lst, settlement_name):\n",
    "    settl_lst = []\n",
    "    for item in given_lst:\n",
    "        if settlement_name.lower() in item.lower():\n",
    "            if item.lower() not in settl_lst:\n",
    "                settl_lst.append(item.lower())\n",
    "    return settl_lst"
   ]
  },
  {
   "cell_type": "code",
   "execution_count": null,
   "metadata": {},
   "outputs": [],
   "source": [
    "def main():\n",
    "    try:    \n",
    "        dataframe = pd.read_csv(CSV_FILE_PATH) \n",
    "        print(dataframe.shape)\n",
    "\n",
    "        data_items_lst = return_data_list(dataframe)\n",
    "        #print(data_items_lst)\n",
    "\n",
    "        user_inp = get_user_settlement()\n",
    "        print(f\"You selected: {user_inp}\")\n",
    "\n",
    "        #df = pd.DataFrame(dataframe)\n",
    "\n",
    "        # The user can input values whether they are lowercase or uppercase and it will work fine\n",
    "        dataframe['data'] = dataframe['data'].str.lower()\n",
    "        print(dataframe)\n",
    "        settlement_lst= create_user_settl_lst(data_items_lst, user_inp)\n",
    "        #print(settlement_lst)\n",
    "        \n",
    "        if settlement_lst != []:\n",
    "            # Filtered the df by the given settlement lst\n",
    "            filtered_df = dataframe[dataframe['data'].isin(settlement_lst)]\n",
    "            \n",
    "            display_dist(filtered_df, user_inp)\n",
    "    \n",
    "        else:\n",
    "            raise ValueError(\"You selected a Settlement that does not exist.\")\n",
    "        \n",
    "       \n",
    "    except ValueError as e:\n",
    "        print(f\"An error occured: {e}\")\n"
   ]
  },
  {
   "cell_type": "code",
   "execution_count": null,
   "metadata": {},
   "outputs": [],
   "source": [
    "if __name__ == \"__main__\":\n",
    "    main()"
   ]
  }
 ],
 "metadata": {
  "kernelspec": {
   "display_name": "base",
   "language": "python",
   "name": "python3"
  },
  "language_info": {
   "codemirror_mode": {
    "name": "ipython",
    "version": 3
   },
   "file_extension": ".py",
   "mimetype": "text/x-python",
   "name": "python",
   "nbconvert_exporter": "python",
   "pygments_lexer": "ipython3",
   "version": "3.10.9"
  }
 },
 "nbformat": 4,
 "nbformat_minor": 2
}
